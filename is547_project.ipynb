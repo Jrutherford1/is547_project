{
 "cells": [
  {
   "metadata": {},
   "cell_type": "markdown",
   "source": [
    "# IS547 Project Jupyter Notebook\n",
    "\n",
    "<details>\n",
    "<summary>Project Overview</summary>\n",
    "\n",
    "This project involves managing approximately 2200 digital documents originating from an internal WordPress site migration at my workplace. As previously outlined in my Dataset Profile, the data consists of PDFs, Word documents, Excel spreadsheets, and occasionally PowerPoint presentations already archived in our Box storage. These were curated over a decade or more by our seventy-plus library committees, albeit the majority of the data comes from 10-15 committees. The documents include meeting minutes, agendas, and related institutional records. With FAIR in mind, the curation goals I have are to enhance internal accessibility, maintain institutional memory and data provenance, and support governance through improved data organization and documentation. These documents were publicly available via our open staff site.\n",
    "\n",
    "In this project, I will adopt the role of curator or archivist, actively managing the data curation lifecycle using the Digital Curation Centre’s (DCC) Curation Lifecycle Model (Higgins, 2008). This model provides structured guidance through the stages of creation and collection, processing and organization, storage and preservation, access and use, and disposition of data within the set.\n",
    "\n",
    "</details>\n",
    "\n",
    "<details>\n",
    "<summary>Tentative Deliverables</summary>\n",
    "\n",
    "- Consistent naming conventions applied across all documents\n",
    "- Documentation of data governance and ethical compliance per our institutional policies; if none exist, resources from university-wide policies will be utilized\n",
    "- Metadata enhancement to improve retrieval, searchability, and discoverability\n",
    "- Documented provenance and fixity check to support institutional memory\n",
    "\n",
    "</details>\n",
    "\n",
    "<details>\n",
    "<summary>High-Level Timeline</summary>\n",
    "\n",
    "My high-level timeline anticipates scoping the naming and metadata enhancement portions of the project over the next few weeks, completing them by the end of March. Documentation for governance and ethical compliance will be ongoing as I work through the technical details, research and creation. Provenance documentation will occur via repository use and proper documentation with the code. Fixity goals may be adjusted based on the complexities identified during initial technical tasks of naming and working with metadata.\n",
    "\n",
    "</details>\n",
    "\n",
    "<details>\n",
    "<summary>Known Gaps</summary>\n",
    "\n",
    "Known gaps requiring further research include institutional data governance policies and application of fixity measures. I have found a couple internal resources for governance, but I may need to consult broader university-wide resources. The feasibility of manipulating document names, adding metadata, linking, or managing fixity across this volume of documents will be assessed as the project progresses. I plan to use a Jupyter notebook and Python to do the workflow for the technical documentation, code and provenance information. Governance and ethics documentation will occur via Word and exported to PDF and placed in the repo. All documentation will be accessible per WCAG 2.2 requirements.\n",
    "\n",
    "</details>\n",
    "\n",
    "<details>\n",
    "<summary>Anticipated Curatorial Actions</summary>\n",
    "\n",
    "- Data collection: The set is already acquired and in organized Box folders. No further action needed.\n",
    "- Ethical and legal: No explicit ethical or legal restrictions have been identified, yet further exploration of our institution’s policies is necessary to build documentation.\n",
    "- Storage: Active curation will continue via our current infrastructure, Box.\n",
    "- Quality assessment and cleaning: none anticipated.\n",
    "- Workflows will be documented and any code archived in Git so that my actions may be reproducible.\n",
    "- Provenance tracking: basic provenance information may be implemented to document changes and any curation decisions.\n",
    "- Appropriate metadata standards will be applied if enhancement is done\n",
    "- No persistent identifiers will be implemented\n",
    "\n",
    "</details>\n",
    "\n",
    "<details>\n",
    "<summary>References</summary>\n",
    "\n",
    "Higgins, S. (2008). The DCC Curation Lifecycle Model. International Journal of Digital Curation, 3(1), 134–140. https://doi.org/10.2218/ijdc.v3i1.48\n",
    "\n",
    "</details>\n",
    "\n",
    "<details>\n",
    "<summary>Additional Resources</summary>\n",
    "\n",
    "To learn more about Jupyter Notebooks in PyCharm, see [help](https://www.jetbrains.com/help/pycharm/ipython-notebook-support.html).\n",
    "For an overview of PyCharm, go to Help -> Learn IDE features or refer to [our documentation](https://www.jetbrains.com/help/pycharm/getting-started.html).\n",
    "\n",
    "</details>"
   ],
   "id": "8a77807f92f26ee"
  },
  {
   "metadata": {
    "ExecuteTime": {
     "end_time": "2025-03-24T16:34:08.216956Z",
     "start_time": "2025-03-24T16:34:08.185452Z"
    }
   },
   "cell_type": "code",
   "source": [
    "from data_pipeline.data_explore import count_files\n",
    "committees_directory = 'data/Committees'\n",
    "total_files = count_files(committees_directory)\n",
    "print(f\"Total number of files in '{committees_directory}': {total_files}\")"
   ],
   "id": "fbc121e30a2defb3",
   "outputs": [
    {
     "name": "stdout",
     "output_type": "stream",
     "text": [
      "Total number of files in 'data/Committees': 2203\n"
     ]
    }
   ],
   "execution_count": 3
  },
  {
   "metadata": {
    "ExecuteTime": {
     "end_time": "2025-03-24T16:34:20.222642Z",
     "start_time": "2025-03-24T16:34:20.208669Z"
    }
   },
   "cell_type": "code",
   "source": [
    "from data_pipeline.data_explore import find_file_types\n",
    "file_types = find_file_types('data/Committees')\n",
    "print(file_types)"
   ],
   "id": "633c3d1998690828",
   "outputs": [
    {
     "name": "stdout",
     "output_type": "stream",
     "text": [
      "{'': 6, '.docx': 1764, '.ppt': 26, '.doc': 53, '.pdf': 333, '.pptx': 21, '.xls': 4, '.xlsx': 2}\n"
     ]
    }
   ],
   "execution_count": 4
  },
  {
   "metadata": {
    "ExecuteTime": {
     "end_time": "2025-03-24T16:34:30.520310Z",
     "start_time": "2025-03-24T16:34:30.517421Z"
    }
   },
   "cell_type": "code",
   "source": [
    "from data_pipeline.data_explore import list_committees_and_count\n",
    "list_committees_and_count('data/Committees')\n"
   ],
   "id": "196ef5c5df51205d",
   "outputs": [
    {
     "name": "stdout",
     "output_type": "stream",
     "text": [
      "Research and Publication Committee\n",
      "Reference Management Team\n",
      "Promotion and Tenure Advisory Committee\n",
      "The Library as Catalyst Project - Special Collections Research Center Working Group\n",
      "Teaching and Learning Task Force\n",
      "Graduate Student Survey Working Group\n",
      "University Library Residency Program Working Group\n",
      "Diversity Residency Advisory Committee\n",
      "Awards and Recognition Committee\n",
      "Academic Professional Promotion Implementation Team\n",
      "Content Access Policy & Technology (CAPT)\n",
      "Working Group on Library Grants, Outreach and Training (COMPLETED CHARGE)\n",
      "Open Licensing Task Force\n",
      "Academic Professional Peer Review Promotion Advisory Committee\n",
      "Diversity, Equity, Inclusion, and Accessibility (DEIA) Task Force\n",
      "Student-Focused Spaces Task Force\n",
      "220 Exploratory Use Team\n",
      "Marshall Gallery Task Force\n",
      "Marketing and Communications Strategy Working Group\n",
      "Reproduction and Use Fees Working Group\n",
      "Library Faculty Meeting\n",
      "Faculty Meeting Agenda Committee\n",
      "CAPT Digital Production\n",
      "CAPT Repositories, Preservation, and Access\n",
      "Grievance Committee\n",
      "CAPT Catalog and Metadata Working Group\n",
      "Task Force for Research Support\n",
      "Library Occasional Reports Series Advisory Group\n",
      "ILS Coordination Team\n",
      "Social Media Working Group\n",
      "User Education Committee (Disbanded 2018)\n",
      "The Library as Catalyst Project_ Programming the Main Library Building WG\n",
      "Faculty Review Committee\n",
      "Diversity Committee\n",
      "Privacy Policies Implementation Team\n",
      "Ithaka Survey Working Group\n",
      "Outreach and Engagement Committee\n",
      "Strategic Communications and Marketing Committee\n",
      "Secretary of the Faculty\n",
      "Alma Squad\n",
      "iSchool Admission Committee\n",
      "HathiTrust User Working Group\n",
      "1st Floor Central Service Point Planning Group\n",
      "Specialized Faculty Task Force\n",
      "Administrative Council\n",
      "Parliamentarian\n",
      "Exhibitions Committee\n",
      "CAPT Web\n",
      "Reserve Services Task Force\n",
      "Digital Humanities at Illinois Needs Assessment Working Group\n",
      "Budget Group\n",
      "Inclusion in Governance Task Force\n",
      "Library Committee of Academic and Civil Service Professionals (LCP)\n",
      "Mortenson Center Advisory Committee Charge and Membership\n",
      "Library Assessment Committee\n",
      "Bylaws Committee\n",
      "Senate of the Urbana-Champaign Campus\n",
      "Organization Development and Training Advisory Committee\n",
      "Affirmative Action Officer\n",
      "Executive Committee\n",
      "Collection Development Committee\n",
      "Residency Program Implementation Group\n",
      "Wellness Committee\n",
      "Accessibility Advisory Group\n",
      "Research and Investigation Time Policy Task Force\n",
      "Library Council Implementation Team\n",
      "Research Technologies Coordination Working Group\n",
      "Equal Employment Opportunity Committee\n",
      "The Library as Catalyst Project - A Framework for Working Groups and Input Solicitation\n",
      "CAPT Electronic Resources\n",
      "Nominations, Elections, and Voting Procedures Committee\n",
      "Library Strategic Planning Team\n",
      "UIUC Library Task Force on the College of Medicine\n",
      "Humanities and Interdisciplinary Scholars' Collaboratory Strategy and Planning Working Group\n",
      "CAPT Library Emerging and Integrated Technologies Coordination (LEITC)\n",
      "Library Staff Support Committee\n",
      "Collection Management and Planning Working Group\n",
      "CAPT Search, Discovery, and Deliver Working Group\n",
      "Library Student Learning Assessment Team\n",
      "The Library as Catalyst Project - Library Consultation Working Group\n",
      "The Library as Catalyst Project - Managing the Library's Collections WG\n",
      "Total number of committees: 81\n"
     ]
    }
   ],
   "execution_count": 5
  },
  {
   "metadata": {
    "ExecuteTime": {
     "end_time": "2025-03-24T16:34:37.144990Z",
     "start_time": "2025-03-24T16:34:37.139660Z"
    }
   },
   "cell_type": "code",
   "source": [
    "from data_pipeline.data_explore import list_files\n",
    "\n",
    "list_files('data/Committees')\n"
   ],
   "id": "eddf599d73382d8c",
   "outputs": [
    {
     "name": "stdout",
     "output_type": "stream",
     "text": [
      "File: data/Committees/.DS_Store\n",
      "File: data/Committees/The Library as Catalyst Project - Special Collections Research Center Working Group/Minutes/2019.06.13.docx\n",
      "File: data/Committees/The Library as Catalyst Project - Special Collections Research Center Working Group/Minutes/2019.09.17.docx\n",
      "File: data/Committees/The Library as Catalyst Project - Special Collections Research Center Working Group/Minutes/2019.07.29.docx\n",
      "File: data/Committees/The Library as Catalyst Project - Special Collections Research Center Working Group/Minutes/2019.10.10.docx\n",
      "File: data/Committees/The Library as Catalyst Project - Special Collections Research Center Working Group/Minutes/2019.07.15.docx\n",
      "File: data/Committees/The Library as Catalyst Project - Special Collections Research Center Working Group/Minutes/2019.09.04.docx\n",
      "File: data/Committees/The Library as Catalyst Project - Special Collections Research Center Working Group/Minutes/2019.05.30.docx\n",
      "File: data/Committees/The Library as Catalyst Project - Special Collections Research Center Working Group/Minutes/2019.06.27.docx\n",
      "File: data/Committees/The Library as Catalyst Project - Special Collections Research Center Working Group/Minutes/2019.08.14.docx\n",
      "File: data/Committees/The Library as Catalyst Project - Special Collections Research Center Working Group/Minutes/2019.10.29-1.docx\n",
      "File: data/Committees/Graduate Student Survey Working Group/Minutes/Graduate_Student_Survey_Working_Group_minutes_2014_12_12.docx\n",
      "File: data/Committees/Diversity Residency Advisory Committee/Minutes/RAC-Meeting-Notes-12.07.2022 6.28.26 PM.docx\n",
      "File: data/Committees/Diversity Residency Advisory Committee/Minutes/RAC-Meeting-Notes-03.28.22(1).docx\n",
      "File: data/Committees/Diversity Residency Advisory Committee/Minutes/RAC-Meeting-Notes-12.07.2022.docx\n",
      "File: data/Committees/Diversity Residency Advisory Committee/Minutes/RAC-Meeting-Notes11.09.2022.docx\n",
      "File: data/Committees/Diversity Residency Advisory Committee/Minutes/RAC-Meeting-Notes-05.23.22.docx\n",
      "File: data/Committees/Diversity Residency Advisory Committee/Minutes/RAC-Meeting-Notes-2.14.2022.docx\n",
      "File: data/Committees/Diversity Residency Advisory Committee/Minutes/Rac-Meeting-Notes-08.31.2022.docx\n",
      "File: data/Committees/Diversity Residency Advisory Committee/Minutes/RAC-Meeting-Notes-04.11.2022.docx\n",
      "File: data/Committees/Diversity Residency Advisory Committee/Minutes/RAC-Meeting-Notes-02.24.2022.docx\n",
      "File: data/Committees/Diversity Residency Advisory Committee/Minutes/RAC-Meeting-Notes-03.28.22.docx\n",
      "File: data/Committees/Diversity Residency Advisory Committee/Minutes/RAC-Meeting-Notes-07.18.22.docx\n",
      "File: data/Committees/Diversity Residency Advisory Committee/Minutes/RAC-Meeting-Notes-02.01.23.docx\n",
      "File: data/Committees/Diversity Residency Advisory Committee/Minutes/RAC-Meeting-Notes-09.14.2022.docx\n",
      "File: data/Committees/Diversity Residency Advisory Committee/Minutes/RAC-Meeting-Notes-05.09.22.docx\n",
      "File: data/Committees/Diversity Residency Advisory Committee/Minutes/RAC-Meeting-Notes-03.14.22.docx\n",
      "File: data/Committees/Diversity Residency Advisory Committee/Minutes/RAC-Meeting-Notes-06-20-2022.docx\n",
      "File: data/Committees/Diversity Residency Advisory Committee/Minutes/RAC-Meeting-Notes-08.01.22.docx\n",
      "File: data/Committees/Diversity Residency Advisory Committee/Minutes/RAC-Meeting-Notes-10.26.2022.docx\n",
      "File: data/Committees/Diversity Residency Advisory Committee/Minutes/RAC-Meeting-Notes-01.10.2022.docx\n",
      "File: data/Committees/Academic Professional Promotion Implementation Team/Minutes/Academic_Professional_Promotion_Implementation_Team_minutes_2017_06_15.docx\n",
      "File: data/Committees/Academic Professional Promotion Implementation Team/Minutes/Academic_Professional_Promotion_Implementation_Team_minutes_2017_02_17.docx\n",
      "File: data/Committees/Academic Professional Promotion Implementation Team/Minutes/Academic_Professional_Promotion_Implementation_Team_minutes_2017_02_28.docx\n",
      "File: data/Committees/Academic Professional Promotion Implementation Team/Minutes/Academic_Professional_Promotion_Implementation_Team_minutes_2017_03_29.docx\n",
      "File: data/Committees/Academic Professional Promotion Implementation Team/Minutes/Academic_Professional_Promotion_Implementation_Team_minutes_2017_03_28.docx\n",
      "File: data/Committees/Academic Professional Promotion Implementation Team/Minutes/Academic_Professional_Promotion_Implementation_Team_minutes_2017_05_10.docx\n",
      "File: data/Committees/Academic Professional Promotion Implementation Team/Agendas/Academic_Professional_Promotion_Implementation_Team_agenda_2017_03_28.docx\n",
      "File: data/Committees/Academic Professional Promotion Implementation Team/Agendas/Academic_Professional_Promotion_Implementation_Team_agenda_2017_03_29.docx\n",
      "File: data/Committees/Academic Professional Promotion Implementation Team/Agendas/Academic_Professional_Promotion_Implementation_Team_agenda_2017_02_17.docx\n",
      "File: data/Committees/Content Access Policy & Technology (CAPT)/Related Documents/IT_Happenings_at_Campus.ppt\n",
      "File: data/Committees/Content Access Policy & Technology (CAPT)/Related Documents/Summary_of_Primo_Implementation_for_CAPT_Meeting.doc\n",
      "File: data/Committees/Content Access Policy & Technology (CAPT)/Related Documents/Proposed Policy on Custom Templates for the Library CMS.docx\n",
      "File: data/Committees/Content Access Policy & Technology (CAPT)/Related Documents/Phase2ActionPlan.pdf\n",
      "File: data/Committees/Content Access Policy & Technology (CAPT)/Related Documents/Discovery_Study_Group_rev.doc\n",
      "File: data/Committees/Content Access Policy & Technology (CAPT)/Minutes/capt_agenda_minutes_2013_04_30.docx\n",
      "File: data/Committees/Content Access Policy & Technology (CAPT)/Minutes/capt_minutes_2014_04_02.docx\n",
      "File: data/Committees/Content Access Policy & Technology (CAPT)/Minutes/capt_agenda_minutes_2013_01_29.docx\n",
      "File: data/Committees/Content Access Policy & Technology (CAPT)/Minutes/capt_agenda_minutes_2013_04_30 (1).docx\n",
      "File: data/Committees/Content Access Policy & Technology (CAPT)/Minutes/2018-January-CAPT-Minutes.pdf\n",
      "File: data/Committees/Content Access Policy & Technology (CAPT)/Minutes/Capt_minutes_2019_07_25.docx\n",
      "File: data/Committees/Content Access Policy & Technology (CAPT)/Minutes/capt_minutes_2013_08_27.docx\n",
      "File: data/Committees/Content Access Policy & Technology (CAPT)/Minutes/capt_minutes_2013_12_17.docx\n",
      "File: data/Committees/Content Access Policy & Technology (CAPT)/Minutes/Capt_minutes_2017_07_27.pdf\n",
      "File: data/Committees/Content Access Policy & Technology (CAPT)/Minutes/capt_minutes_2014_04_28.docx\n",
      "File: data/Committees/Content Access Policy & Technology (CAPT)/Minutes/capt_minutes_2012_12_19.docx\n",
      "File: data/Committees/Content Access Policy & Technology (CAPT)/Minutes/Capt_minutes_2016_05_31.pdf\n",
      "File: data/Committees/Content Access Policy & Technology (CAPT)/Minutes/Capt_minutes_2019_05_28.docx\n",
      "File: data/Committees/Content Access Policy & Technology (CAPT)/Minutes/2018-March-29-CAPT-Minutes.pdf\n",
      "File: data/Committees/Content Access Policy & Technology (CAPT)/Minutes/Capt_minutes_2017_01_26.pdf\n",
      "File: data/Committees/Content Access Policy & Technology (CAPT)/Minutes/capt_minutes_2013_06_25.docx\n",
      "File: data/Committees/Content Access Policy & Technology (CAPT)/Minutes/Capt_minutes_2019_10_31.docx\n",
      "File: data/Committees/Content Access Policy & Technology (CAPT)/Minutes/Capt_minutes_2019_08_29.docx\n",
      "File: data/Committees/Content Access Policy & Technology (CAPT)/Minutes/Capt_minutes_2018_07_26.pdf\n",
      "File: data/Committees/Content Access Policy & Technology (CAPT)/Minutes/CAPT_MINUTES_2014_09_25.docx\n",
      "File: data/Committees/Content Access Policy & Technology (CAPT)/Minutes/capt_minutes_2013_10_29.docx\n",
      "File: data/Committees/Content Access Policy & Technology (CAPT)/Minutes/capt_minutes_2014_03_04.docx\n",
      "File: data/Committees/Content Access Policy & Technology (CAPT)/Minutes/capt_agenda_minutes_2012_08_22.docx\n",
      "File: data/Committees/Content Access Policy & Technology (CAPT)/Minutes/capt_minutes_2014_12_04.docx\n",
      "File: data/Committees/Content Access Policy & Technology (CAPT)/Minutes/capt_agenda_minutes_2013_05_28.docx\n",
      "File: data/Committees/Content Access Policy & Technology (CAPT)/Minutes/capt_minutes_2013_09_24.docx\n",
      "File: data/Committees/Content Access Policy & Technology (CAPT)/Minutes/capt_agenda_2013_06_25.docx\n",
      "File: data/Committees/Content Access Policy & Technology (CAPT)/Agendas/2017_February_Agenda.pdf\n",
      "File: data/Committees/Content Access Policy & Technology (CAPT)/Agendas/capt_agenda_minutes_2013_04_30.docx\n",
      "File: data/Committees/Content Access Policy & Technology (CAPT)/Agendas/2017_March_Agenda.pdf\n",
      "File: data/Committees/Content Access Policy & Technology (CAPT)/Agendas/2018-October.docx\n",
      "File: data/Committees/Content Access Policy & Technology (CAPT)/Agendas/Capt_agenda_2019_08_29.docx\n",
      "File: data/Committees/Content Access Policy & Technology (CAPT)/Agendas/2018-November-1.docx\n",
      "File: data/Committees/Content Access Policy & Technology (CAPT)/Agendas/2016_February_Agenda.pdf\n",
      "File: data/Committees/Content Access Policy & Technology (CAPT)/Agendas/2016_November.pdf\n",
      "File: data/Committees/Content Access Policy & Technology (CAPT)/Agendas/capt_minutes_2014_04_02.docx\n",
      "File: data/Committees/Content Access Policy & Technology (CAPT)/Agendas/capt_agenda_minutes_2013_01_29.docx\n",
      "File: data/Committees/Content Access Policy & Technology (CAPT)/Agendas/2018-May.docx\n",
      "File: data/Committees/Content Access Policy & Technology (CAPT)/Agendas/2018-April.docx\n",
      "File: data/Committees/Content Access Policy & Technology (CAPT)/Agendas/2018-March-29.docx\n",
      "File: data/Committees/Content Access Policy & Technology (CAPT)/Agendas/2019-February-28-1.docx\n",
      "File: data/Committees/Content Access Policy & Technology (CAPT)/Agendas/2017_July_Agenda.pdf\n",
      "File: data/Committees/Content Access Policy & Technology (CAPT)/Agendas/2016_January_Agenda.pdf\n",
      "File: data/Committees/Content Access Policy & Technology (CAPT)/Agendas/2019-March-28-1.docx\n",
      "File: data/Committees/Content Access Policy & Technology (CAPT)/Agendas/2018-September-27.docx\n",
      "File: data/Committees/Content Access Policy & Technology (CAPT)/Agendas/capt_minutes_2012_12_19.docx\n",
      "File: data/Committees/Content Access Policy & Technology (CAPT)/Agendas/2016_March_Agenda.pdf\n",
      "File: data/Committees/Content Access Policy & Technology (CAPT)/Agendas/2018-July.docx\n",
      "File: data/Committees/Content Access Policy & Technology (CAPT)/Agendas/2016_July_Agenda.pdf\n",
      "File: data/Committees/Content Access Policy & Technology (CAPT)/Agendas/2016_August_Agenda.pdf\n",
      "File: data/Committees/Content Access Policy & Technology (CAPT)/Agendas/2016_December_Agenda.pdf\n",
      "File: data/Committees/Content Access Policy & Technology (CAPT)/Agendas/2017-November-Agenda.pdf\n",
      "File: data/Committees/Content Access Policy & Technology (CAPT)/Agendas/2018-February-22.docx\n",
      "File: data/Committees/Content Access Policy & Technology (CAPT)/Agendas/2019-April-25.docx\n",
      "File: data/Committees/Content Access Policy & Technology (CAPT)/Agendas/2017_August_Agenda.pdf\n"
     ]
    }
   ],
   "execution_count": 6
  },
  {
   "metadata": {
    "ExecuteTime": {
     "end_time": "2025-03-24T16:45:06.836633Z",
     "start_time": "2025-03-24T16:45:06.833335Z"
    }
   },
   "cell_type": "code",
   "source": [
    "from data_pipeline.data_cleaning import ensure_output_directory\n",
    "\n",
    "ensure_output_directory()\n",
    "\n"
   ],
   "id": "7cb4e2ca268e28cd",
   "outputs": [],
   "execution_count": 8
  },
  {
   "metadata": {
    "ExecuteTime": {
     "end_time": "2025-03-24T16:45:19.622424Z",
     "start_time": "2025-03-24T16:45:10.186735Z"
    }
   },
   "cell_type": "code",
   "source": [
    "from data_pipeline.data_cleaning import copy_files\n",
    "\n",
    "copy_files()"
   ],
   "id": "e1d752c700106713",
   "outputs": [
    {
     "name": "stdout",
     "output_type": "stream",
     "text": [
      "Deleting: ./data/Committees/.DS_Store\n",
      "Deleting: ./data/Committees/Administrative Council/.DS_Store\n",
      "Deleting: ./data/Committees/Administrative Council/Minutes/.DS_Store\n",
      "Deleting: ./data/Committees/Administrative Council/Agendas/.DS_Store\n",
      "Deleting: ./data/Committees/Collection Development Committee/.DS_Store\n",
      "Deleting: ./data/Committees/Collection Development Committee/Agendas/.DS_Store\n"
     ]
    }
   ],
   "execution_count": 9
  },
  {
   "metadata": {
    "ExecuteTime": {
     "end_time": "2025-03-24T16:45:53.528126Z",
     "start_time": "2025-03-24T16:45:53.520486Z"
    }
   },
   "cell_type": "code",
   "source": [
    "from data_pipeline.data_explore import count_files\n",
    "count_files('data/Processed_Committees')"
   ],
   "id": "5d01de09da560d3f",
   "outputs": [
    {
     "data": {
      "text/plain": [
       "2203"
      ]
     },
     "execution_count": 10,
     "metadata": {},
     "output_type": "execute_result"
    }
   ],
   "execution_count": 10
  },
  {
   "metadata": {
    "ExecuteTime": {
     "end_time": "2025-03-24T16:46:05.860813Z",
     "start_time": "2025-03-24T16:46:05.853998Z"
    }
   },
   "cell_type": "code",
   "source": [
    "from data_pipeline.data_explore import find_file_types\n",
    "file_types = find_file_types('data/Processed_Committees')\n",
    "print(file_types)"
   ],
   "id": "493fc37bae7d6320",
   "outputs": [
    {
     "name": "stdout",
     "output_type": "stream",
     "text": [
      "{'.docx': 1764, '.ppt': 26, '.doc': 53, '.pdf': 333, '.pptx': 21, '.xls': 4, '.xlsx': 2}\n"
     ]
    }
   ],
   "execution_count": 11
  },
  {
   "metadata": {
    "ExecuteTime": {
     "end_time": "2025-03-24T16:46:13.438102Z",
     "start_time": "2025-03-24T16:46:12.877340Z"
    }
   },
   "cell_type": "code",
   "source": [
    "from data_pipeline.file_naming_old import generate_names_csv\n",
    "\n",
    "generate_names_csv()"
   ],
   "id": "332a68e6067ee0bd",
   "outputs": [
    {
     "data": {
      "text/plain": [
       "                                              Committee Document Type  \\\n",
       "0     The Library as Catalyst Project - Special Coll...       Minutes   \n",
       "1     The Library as Catalyst Project - Special Coll...       Minutes   \n",
       "2     The Library as Catalyst Project - Special Coll...       Minutes   \n",
       "3     The Library as Catalyst Project - Special Coll...       Minutes   \n",
       "4     The Library as Catalyst Project - Special Coll...       Minutes   \n",
       "...                                                 ...           ...   \n",
       "2198  The Library as Catalyst Project - Managing the...       Minutes   \n",
       "2199  The Library as Catalyst Project - Managing the...       Minutes   \n",
       "2200  The Library as Catalyst Project - Managing the...       Minutes   \n",
       "2201  The Library as Catalyst Project - Managing the...       Minutes   \n",
       "2202  The Library as Catalyst Project - Managing the...       Minutes   \n",
       "\n",
       "         Original File Name Extracted Date  \\\n",
       "0           2019.06.13.docx     2019-06-13   \n",
       "1           2019.09.17.docx     2019-09-17   \n",
       "2           2019.07.29.docx     2019-07-29   \n",
       "3           2019.10.10.docx     2019-10-10   \n",
       "4           2019.07.15.docx     2019-07-15   \n",
       "...                     ...            ...   \n",
       "2198   2019-February-5.docx        unknown   \n",
       "2199       2019-May-15.docx        unknown   \n",
       "2200      2019-March-7.docx        unknown   \n",
       "2201    2019-January-7.docx        unknown   \n",
       "2202  2019-February-20.docx        unknown   \n",
       "\n",
       "                                     Proposed File Name  \n",
       "0     The Library as Catalyst Project - Special Coll...  \n",
       "1     The Library as Catalyst Project - Special Coll...  \n",
       "2     The Library as Catalyst Project - Special Coll...  \n",
       "3     The Library as Catalyst Project - Special Coll...  \n",
       "4     The Library as Catalyst Project - Special Coll...  \n",
       "...                                                 ...  \n",
       "2198  The Library as Catalyst Project - Managing the...  \n",
       "2199  The Library as Catalyst Project - Managing the...  \n",
       "2200  The Library as Catalyst Project - Managing the...  \n",
       "2201  The Library as Catalyst Project - Managing the...  \n",
       "2202  The Library as Catalyst Project - Managing the...  \n",
       "\n",
       "[2203 rows x 5 columns]"
      ],
      "text/html": [
       "<div>\n",
       "<style scoped>\n",
       "    .dataframe tbody tr th:only-of-type {\n",
       "        vertical-align: middle;\n",
       "    }\n",
       "\n",
       "    .dataframe tbody tr th {\n",
       "        vertical-align: top;\n",
       "    }\n",
       "\n",
       "    .dataframe thead th {\n",
       "        text-align: right;\n",
       "    }\n",
       "</style>\n",
       "<table border=\"1\" class=\"dataframe\">\n",
       "  <thead>\n",
       "    <tr style=\"text-align: right;\">\n",
       "      <th></th>\n",
       "      <th>Committee</th>\n",
       "      <th>Document Type</th>\n",
       "      <th>Original File Name</th>\n",
       "      <th>Extracted Date</th>\n",
       "      <th>Proposed File Name</th>\n",
       "    </tr>\n",
       "  </thead>\n",
       "  <tbody>\n",
       "    <tr>\n",
       "      <th>0</th>\n",
       "      <td>The Library as Catalyst Project - Special Coll...</td>\n",
       "      <td>Minutes</td>\n",
       "      <td>2019.06.13.docx</td>\n",
       "      <td>2019-06-13</td>\n",
       "      <td>The Library as Catalyst Project - Special Coll...</td>\n",
       "    </tr>\n",
       "    <tr>\n",
       "      <th>1</th>\n",
       "      <td>The Library as Catalyst Project - Special Coll...</td>\n",
       "      <td>Minutes</td>\n",
       "      <td>2019.09.17.docx</td>\n",
       "      <td>2019-09-17</td>\n",
       "      <td>The Library as Catalyst Project - Special Coll...</td>\n",
       "    </tr>\n",
       "    <tr>\n",
       "      <th>2</th>\n",
       "      <td>The Library as Catalyst Project - Special Coll...</td>\n",
       "      <td>Minutes</td>\n",
       "      <td>2019.07.29.docx</td>\n",
       "      <td>2019-07-29</td>\n",
       "      <td>The Library as Catalyst Project - Special Coll...</td>\n",
       "    </tr>\n",
       "    <tr>\n",
       "      <th>3</th>\n",
       "      <td>The Library as Catalyst Project - Special Coll...</td>\n",
       "      <td>Minutes</td>\n",
       "      <td>2019.10.10.docx</td>\n",
       "      <td>2019-10-10</td>\n",
       "      <td>The Library as Catalyst Project - Special Coll...</td>\n",
       "    </tr>\n",
       "    <tr>\n",
       "      <th>4</th>\n",
       "      <td>The Library as Catalyst Project - Special Coll...</td>\n",
       "      <td>Minutes</td>\n",
       "      <td>2019.07.15.docx</td>\n",
       "      <td>2019-07-15</td>\n",
       "      <td>The Library as Catalyst Project - Special Coll...</td>\n",
       "    </tr>\n",
       "    <tr>\n",
       "      <th>...</th>\n",
       "      <td>...</td>\n",
       "      <td>...</td>\n",
       "      <td>...</td>\n",
       "      <td>...</td>\n",
       "      <td>...</td>\n",
       "    </tr>\n",
       "    <tr>\n",
       "      <th>2198</th>\n",
       "      <td>The Library as Catalyst Project - Managing the...</td>\n",
       "      <td>Minutes</td>\n",
       "      <td>2019-February-5.docx</td>\n",
       "      <td>unknown</td>\n",
       "      <td>The Library as Catalyst Project - Managing the...</td>\n",
       "    </tr>\n",
       "    <tr>\n",
       "      <th>2199</th>\n",
       "      <td>The Library as Catalyst Project - Managing the...</td>\n",
       "      <td>Minutes</td>\n",
       "      <td>2019-May-15.docx</td>\n",
       "      <td>unknown</td>\n",
       "      <td>The Library as Catalyst Project - Managing the...</td>\n",
       "    </tr>\n",
       "    <tr>\n",
       "      <th>2200</th>\n",
       "      <td>The Library as Catalyst Project - Managing the...</td>\n",
       "      <td>Minutes</td>\n",
       "      <td>2019-March-7.docx</td>\n",
       "      <td>unknown</td>\n",
       "      <td>The Library as Catalyst Project - Managing the...</td>\n",
       "    </tr>\n",
       "    <tr>\n",
       "      <th>2201</th>\n",
       "      <td>The Library as Catalyst Project - Managing the...</td>\n",
       "      <td>Minutes</td>\n",
       "      <td>2019-January-7.docx</td>\n",
       "      <td>unknown</td>\n",
       "      <td>The Library as Catalyst Project - Managing the...</td>\n",
       "    </tr>\n",
       "    <tr>\n",
       "      <th>2202</th>\n",
       "      <td>The Library as Catalyst Project - Managing the...</td>\n",
       "      <td>Minutes</td>\n",
       "      <td>2019-February-20.docx</td>\n",
       "      <td>unknown</td>\n",
       "      <td>The Library as Catalyst Project - Managing the...</td>\n",
       "    </tr>\n",
       "  </tbody>\n",
       "</table>\n",
       "<p>2203 rows × 5 columns</p>\n",
       "</div>"
      ]
     },
     "execution_count": 12,
     "metadata": {},
     "output_type": "execute_result"
    }
   ],
   "execution_count": 12
  },
  {
   "metadata": {
    "ExecuteTime": {
     "end_time": "2025-03-24T16:46:20.644538Z",
     "start_time": "2025-03-24T16:46:20.641330Z"
    }
   },
   "cell_type": "code",
   "source": [
    "from data_pipeline.data_cleaning import list_files\n",
    "\n",
    "list_files(\"./data/Processed_Committees\")"
   ],
   "id": "e7723a0f4f8d8ba2",
   "outputs": [
    {
     "name": "stdout",
     "output_type": "stream",
     "text": [
      "File: ./data/Processed_Committees/The Library as Catalyst Project - Special Collections Research Center Working Group/Minutes/2019.06.13.docx\n",
      "File: ./data/Processed_Committees/The Library as Catalyst Project - Special Collections Research Center Working Group/Minutes/2019.09.17.docx\n",
      "File: ./data/Processed_Committees/The Library as Catalyst Project - Special Collections Research Center Working Group/Minutes/2019.07.29.docx\n",
      "File: ./data/Processed_Committees/The Library as Catalyst Project - Special Collections Research Center Working Group/Minutes/2019.10.10.docx\n",
      "File: ./data/Processed_Committees/The Library as Catalyst Project - Special Collections Research Center Working Group/Minutes/2019.07.15.docx\n",
      "File: ./data/Processed_Committees/The Library as Catalyst Project - Special Collections Research Center Working Group/Minutes/2019.09.04.docx\n",
      "File: ./data/Processed_Committees/The Library as Catalyst Project - Special Collections Research Center Working Group/Minutes/2019.05.30.docx\n",
      "File: ./data/Processed_Committees/The Library as Catalyst Project - Special Collections Research Center Working Group/Minutes/2019.06.27.docx\n",
      "File: ./data/Processed_Committees/The Library as Catalyst Project - Special Collections Research Center Working Group/Minutes/2019.08.14.docx\n",
      "File: ./data/Processed_Committees/The Library as Catalyst Project - Special Collections Research Center Working Group/Minutes/2019.10.29-1.docx\n",
      "File: ./data/Processed_Committees/Graduate Student Survey Working Group/Minutes/Graduate_Student_Survey_Working_Group_minutes_2014_12_12.docx\n",
      "File: ./data/Processed_Committees/Diversity Residency Advisory Committee/Minutes/RAC-Meeting-Notes-12.07.2022 6.28.26 PM.docx\n",
      "File: ./data/Processed_Committees/Diversity Residency Advisory Committee/Minutes/RAC-Meeting-Notes-03.28.22(1).docx\n",
      "File: ./data/Processed_Committees/Diversity Residency Advisory Committee/Minutes/RAC-Meeting-Notes-12.07.2022.docx\n",
      "File: ./data/Processed_Committees/Diversity Residency Advisory Committee/Minutes/RAC-Meeting-Notes11.09.2022.docx\n",
      "File: ./data/Processed_Committees/Diversity Residency Advisory Committee/Minutes/RAC-Meeting-Notes-05.23.22.docx\n",
      "File: ./data/Processed_Committees/Diversity Residency Advisory Committee/Minutes/RAC-Meeting-Notes-2.14.2022.docx\n",
      "File: ./data/Processed_Committees/Diversity Residency Advisory Committee/Minutes/Rac-Meeting-Notes-08.31.2022.docx\n",
      "File: ./data/Processed_Committees/Diversity Residency Advisory Committee/Minutes/RAC-Meeting-Notes-04.11.2022.docx\n",
      "File: ./data/Processed_Committees/Diversity Residency Advisory Committee/Minutes/RAC-Meeting-Notes-02.24.2022.docx\n",
      "File: ./data/Processed_Committees/Diversity Residency Advisory Committee/Minutes/RAC-Meeting-Notes-03.28.22.docx\n",
      "File: ./data/Processed_Committees/Diversity Residency Advisory Committee/Minutes/RAC-Meeting-Notes-07.18.22.docx\n",
      "File: ./data/Processed_Committees/Diversity Residency Advisory Committee/Minutes/RAC-Meeting-Notes-02.01.23.docx\n",
      "File: ./data/Processed_Committees/Diversity Residency Advisory Committee/Minutes/RAC-Meeting-Notes-09.14.2022.docx\n",
      "File: ./data/Processed_Committees/Diversity Residency Advisory Committee/Minutes/RAC-Meeting-Notes-05.09.22.docx\n",
      "File: ./data/Processed_Committees/Diversity Residency Advisory Committee/Minutes/RAC-Meeting-Notes-03.14.22.docx\n",
      "File: ./data/Processed_Committees/Diversity Residency Advisory Committee/Minutes/RAC-Meeting-Notes-06-20-2022.docx\n",
      "File: ./data/Processed_Committees/Diversity Residency Advisory Committee/Minutes/RAC-Meeting-Notes-08.01.22.docx\n",
      "File: ./data/Processed_Committees/Diversity Residency Advisory Committee/Minutes/RAC-Meeting-Notes-10.26.2022.docx\n",
      "File: ./data/Processed_Committees/Diversity Residency Advisory Committee/Minutes/RAC-Meeting-Notes-01.10.2022.docx\n",
      "File: ./data/Processed_Committees/Academic Professional Promotion Implementation Team/Minutes/Academic_Professional_Promotion_Implementation_Team_minutes_2017_06_15.docx\n",
      "File: ./data/Processed_Committees/Academic Professional Promotion Implementation Team/Minutes/Academic_Professional_Promotion_Implementation_Team_minutes_2017_02_17.docx\n",
      "File: ./data/Processed_Committees/Academic Professional Promotion Implementation Team/Minutes/Academic_Professional_Promotion_Implementation_Team_minutes_2017_02_28.docx\n",
      "File: ./data/Processed_Committees/Academic Professional Promotion Implementation Team/Minutes/Academic_Professional_Promotion_Implementation_Team_minutes_2017_03_29.docx\n",
      "File: ./data/Processed_Committees/Academic Professional Promotion Implementation Team/Minutes/Academic_Professional_Promotion_Implementation_Team_minutes_2017_03_28.docx\n",
      "File: ./data/Processed_Committees/Academic Professional Promotion Implementation Team/Minutes/Academic_Professional_Promotion_Implementation_Team_minutes_2017_05_10.docx\n",
      "File: ./data/Processed_Committees/Academic Professional Promotion Implementation Team/Agendas/Academic_Professional_Promotion_Implementation_Team_agenda_2017_03_28.docx\n",
      "File: ./data/Processed_Committees/Academic Professional Promotion Implementation Team/Agendas/Academic_Professional_Promotion_Implementation_Team_agenda_2017_03_29.docx\n",
      "File: ./data/Processed_Committees/Academic Professional Promotion Implementation Team/Agendas/Academic_Professional_Promotion_Implementation_Team_agenda_2017_02_17.docx\n",
      "File: ./data/Processed_Committees/Content Access Policy & Technology (CAPT)/Related Documents/IT_Happenings_at_Campus.ppt\n",
      "File: ./data/Processed_Committees/Content Access Policy & Technology (CAPT)/Related Documents/Summary_of_Primo_Implementation_for_CAPT_Meeting.doc\n",
      "File: ./data/Processed_Committees/Content Access Policy & Technology (CAPT)/Related Documents/Proposed Policy on Custom Templates for the Library CMS.docx\n",
      "File: ./data/Processed_Committees/Content Access Policy & Technology (CAPT)/Related Documents/Phase2ActionPlan.pdf\n",
      "File: ./data/Processed_Committees/Content Access Policy & Technology (CAPT)/Related Documents/Discovery_Study_Group_rev.doc\n",
      "File: ./data/Processed_Committees/Content Access Policy & Technology (CAPT)/Minutes/capt_agenda_minutes_2013_04_30.docx\n",
      "File: ./data/Processed_Committees/Content Access Policy & Technology (CAPT)/Minutes/capt_minutes_2014_04_02.docx\n",
      "File: ./data/Processed_Committees/Content Access Policy & Technology (CAPT)/Minutes/capt_agenda_minutes_2013_01_29.docx\n",
      "File: ./data/Processed_Committees/Content Access Policy & Technology (CAPT)/Minutes/capt_agenda_minutes_2013_04_30 (1).docx\n",
      "File: ./data/Processed_Committees/Content Access Policy & Technology (CAPT)/Minutes/2018-January-CAPT-Minutes.pdf\n",
      "File: ./data/Processed_Committees/Content Access Policy & Technology (CAPT)/Minutes/Capt_minutes_2019_07_25.docx\n",
      "File: ./data/Processed_Committees/Content Access Policy & Technology (CAPT)/Minutes/capt_minutes_2013_08_27.docx\n",
      "File: ./data/Processed_Committees/Content Access Policy & Technology (CAPT)/Minutes/capt_minutes_2013_12_17.docx\n",
      "File: ./data/Processed_Committees/Content Access Policy & Technology (CAPT)/Minutes/Capt_minutes_2017_07_27.pdf\n",
      "File: ./data/Processed_Committees/Content Access Policy & Technology (CAPT)/Minutes/capt_minutes_2014_04_28.docx\n",
      "File: ./data/Processed_Committees/Content Access Policy & Technology (CAPT)/Minutes/capt_minutes_2012_12_19.docx\n",
      "File: ./data/Processed_Committees/Content Access Policy & Technology (CAPT)/Minutes/Capt_minutes_2016_05_31.pdf\n",
      "File: ./data/Processed_Committees/Content Access Policy & Technology (CAPT)/Minutes/Capt_minutes_2019_05_28.docx\n",
      "File: ./data/Processed_Committees/Content Access Policy & Technology (CAPT)/Minutes/2018-March-29-CAPT-Minutes.pdf\n",
      "File: ./data/Processed_Committees/Content Access Policy & Technology (CAPT)/Minutes/Capt_minutes_2017_01_26.pdf\n",
      "File: ./data/Processed_Committees/Content Access Policy & Technology (CAPT)/Minutes/capt_minutes_2013_06_25.docx\n",
      "File: ./data/Processed_Committees/Content Access Policy & Technology (CAPT)/Minutes/Capt_minutes_2019_10_31.docx\n",
      "File: ./data/Processed_Committees/Content Access Policy & Technology (CAPT)/Minutes/Capt_minutes_2019_08_29.docx\n",
      "File: ./data/Processed_Committees/Content Access Policy & Technology (CAPT)/Minutes/Capt_minutes_2018_07_26.pdf\n",
      "File: ./data/Processed_Committees/Content Access Policy & Technology (CAPT)/Minutes/CAPT_MINUTES_2014_09_25.docx\n",
      "File: ./data/Processed_Committees/Content Access Policy & Technology (CAPT)/Minutes/capt_minutes_2013_10_29.docx\n",
      "File: ./data/Processed_Committees/Content Access Policy & Technology (CAPT)/Minutes/capt_minutes_2014_03_04.docx\n",
      "File: ./data/Processed_Committees/Content Access Policy & Technology (CAPT)/Minutes/capt_agenda_minutes_2012_08_22.docx\n",
      "File: ./data/Processed_Committees/Content Access Policy & Technology (CAPT)/Minutes/capt_minutes_2014_12_04.docx\n",
      "File: ./data/Processed_Committees/Content Access Policy & Technology (CAPT)/Minutes/capt_agenda_minutes_2013_05_28.docx\n",
      "File: ./data/Processed_Committees/Content Access Policy & Technology (CAPT)/Minutes/capt_minutes_2013_09_24.docx\n",
      "File: ./data/Processed_Committees/Content Access Policy & Technology (CAPT)/Minutes/capt_agenda_2013_06_25.docx\n",
      "File: ./data/Processed_Committees/Content Access Policy & Technology (CAPT)/Agendas/2017_February_Agenda.pdf\n",
      "File: ./data/Processed_Committees/Content Access Policy & Technology (CAPT)/Agendas/capt_agenda_minutes_2013_04_30.docx\n",
      "File: ./data/Processed_Committees/Content Access Policy & Technology (CAPT)/Agendas/2017_March_Agenda.pdf\n",
      "File: ./data/Processed_Committees/Content Access Policy & Technology (CAPT)/Agendas/2018-October.docx\n",
      "File: ./data/Processed_Committees/Content Access Policy & Technology (CAPT)/Agendas/Capt_agenda_2019_08_29.docx\n",
      "File: ./data/Processed_Committees/Content Access Policy & Technology (CAPT)/Agendas/2018-November-1.docx\n",
      "File: ./data/Processed_Committees/Content Access Policy & Technology (CAPT)/Agendas/2016_February_Agenda.pdf\n",
      "File: ./data/Processed_Committees/Content Access Policy & Technology (CAPT)/Agendas/2016_November.pdf\n",
      "File: ./data/Processed_Committees/Content Access Policy & Technology (CAPT)/Agendas/capt_minutes_2014_04_02.docx\n",
      "File: ./data/Processed_Committees/Content Access Policy & Technology (CAPT)/Agendas/capt_agenda_minutes_2013_01_29.docx\n",
      "File: ./data/Processed_Committees/Content Access Policy & Technology (CAPT)/Agendas/2018-May.docx\n",
      "File: ./data/Processed_Committees/Content Access Policy & Technology (CAPT)/Agendas/2018-April.docx\n",
      "File: ./data/Processed_Committees/Content Access Policy & Technology (CAPT)/Agendas/2018-March-29.docx\n",
      "File: ./data/Processed_Committees/Content Access Policy & Technology (CAPT)/Agendas/2019-February-28-1.docx\n",
      "File: ./data/Processed_Committees/Content Access Policy & Technology (CAPT)/Agendas/2017_July_Agenda.pdf\n",
      "File: ./data/Processed_Committees/Content Access Policy & Technology (CAPT)/Agendas/2016_January_Agenda.pdf\n",
      "File: ./data/Processed_Committees/Content Access Policy & Technology (CAPT)/Agendas/2019-March-28-1.docx\n",
      "File: ./data/Processed_Committees/Content Access Policy & Technology (CAPT)/Agendas/2018-September-27.docx\n",
      "File: ./data/Processed_Committees/Content Access Policy & Technology (CAPT)/Agendas/capt_minutes_2012_12_19.docx\n",
      "File: ./data/Processed_Committees/Content Access Policy & Technology (CAPT)/Agendas/2016_March_Agenda.pdf\n",
      "File: ./data/Processed_Committees/Content Access Policy & Technology (CAPT)/Agendas/2018-July.docx\n",
      "File: ./data/Processed_Committees/Content Access Policy & Technology (CAPT)/Agendas/2016_July_Agenda.pdf\n",
      "File: ./data/Processed_Committees/Content Access Policy & Technology (CAPT)/Agendas/2016_August_Agenda.pdf\n",
      "File: ./data/Processed_Committees/Content Access Policy & Technology (CAPT)/Agendas/2016_December_Agenda.pdf\n",
      "File: ./data/Processed_Committees/Content Access Policy & Technology (CAPT)/Agendas/2017-November-Agenda.pdf\n",
      "File: ./data/Processed_Committees/Content Access Policy & Technology (CAPT)/Agendas/2018-February-22.docx\n",
      "File: ./data/Processed_Committees/Content Access Policy & Technology (CAPT)/Agendas/2019-April-25.docx\n",
      "File: ./data/Processed_Committees/Content Access Policy & Technology (CAPT)/Agendas/2017_August_Agenda.pdf\n",
      "File: ./data/Processed_Committees/Content Access Policy & Technology (CAPT)/Agendas/2019-February-28.docx\n"
     ]
    }
   ],
   "execution_count": 13
  },
  {
   "metadata": {
    "ExecuteTime": {
     "end_time": "2025-03-24T15:13:25.130238Z",
     "start_time": "2025-03-24T15:13:25.128421Z"
    }
   },
   "cell_type": "code",
   "source": "",
   "id": "53559ec0ef3f209c",
   "outputs": [],
   "execution_count": null
  }
 ],
 "metadata": {
  "kernelspec": {
   "display_name": "Python 3",
   "language": "python",
   "name": "python3"
  },
  "language_info": {
   "codemirror_mode": {
    "name": "ipython",
    "version": 2
   },
   "file_extension": ".py",
   "mimetype": "text/x-python",
   "name": "python",
   "nbconvert_exporter": "python",
   "pygments_lexer": "ipython2",
   "version": "2.7.6"
  }
 },
 "nbformat": 4,
 "nbformat_minor": 5
}
